{
 "cells": [
  {
   "cell_type": "code",
   "execution_count": null,
   "metadata": {},
   "outputs": [],
   "source": [
    "from ipycanvas import Canvas\n",
    "from ipycanvas import MultiCanvas\n",
    "from ipywidgets import interact, interactive, fixed, interact_manual\n",
    "import ipywidgets as widgets\n",
    "from IPython.display import display"
   ]
  },
  {
   "cell_type": "code",
   "execution_count": null,
   "metadata": {},
   "outputs": [],
   "source": [
    "canvas = Canvas(width=100, height=100)\n",
    "canvas"
   ]
  },
  {
   "cell_type": "code",
   "execution_count": null,
   "metadata": {},
   "outputs": [],
   "source": [
    "# Create a multi-layer canvas with 4 layers\n",
    "multi_canvas = MultiCanvas(4, width=200, height=200)\n",
    "multi_canvas[0] #  Access first layer (background)\n",
    "multi_canvas[3] #  Access last layer\n",
    "multi_canvas"
   ]
  },
  {
   "cell_type": "code",
   "execution_count": null,
   "metadata": {},
   "outputs": [],
   "source": [
    "canvas.width = 300\n",
    "canvas.height = 100\n",
    "\n",
    "canvas.fill_rect(25, 25, 100, 100)\n",
    "canvas.clear_rect(45, 45, 60, 60)\n",
    "canvas.stroke_rect(50, 50, 50, 50)"
   ]
  },
  {
   "cell_type": "code",
   "execution_count": null,
   "metadata": {},
   "outputs": [],
   "source": [
    "import numpy as np\n",
    "from math import pi\n",
    "from ipycanvas import Canvas\n",
    "from ipycanvas import Canvas, Path2D\n",
    "\n",
    "n_particles = 100_000\n",
    "\n",
    "x = np.array(np.random.rayleigh(250, n_particles), dtype=np.int32)\n",
    "y = np.array(np.random.rayleigh(250, n_particles), dtype=np.int32)\n",
    "size = np.random.randint(1, 3, n_particles)\n",
    "\n",
    "canvas = Canvas(width=800, height=500)\n",
    "\n",
    "canvas.fill_style = 'green'\n",
    "canvas.fill_rects(x, y, size)\n",
    "\n",
    "canvas.fill_style = '#63934e'\n",
    "canvas.stroke_style = '#4e6393'\n",
    "canvas.line_width = 5\n",
    "canvas.fill_polygon([(20, 20), (180, 20), (100, 150)])\n",
    "canvas.stroke_polygon([(20, 20), (180, 20), (100, 150)])\n",
    "\n",
    "canvas.fill_style = 'red'\n",
    "canvas.stroke_style = 'blue'\n",
    "\n",
    "canvas.fill_arc(60, 60, 50, 0, pi)\n",
    "canvas.stroke_circle(60, 60, 40)\n",
    "canvas.stroke_circle(0, 0, 40)\n",
    "\n",
    "def handle_mouse_move(x, y):\n",
    "    # Do something\n",
    "    print(f'move {x},{y}')\n",
    "    pass\n",
    "\n",
    "canvas.on_mouse_move(handle_mouse_move)\n",
    "\n",
    "def handle_mouse_down(x, y):\n",
    "    # Do something else\n",
    "    canvas.stroke_circle(x, y, 20)\n",
    "    pass\n",
    "\n",
    "canvas.on_mouse_down(handle_mouse_down)\n",
    "\n",
    "path1 = Path2D('M80 80 A 45 45, 0, 0, 0, 125 125 L 125 80 Z')\n",
    "canvas.fill_style = 'purple'\n",
    "canvas.fill(path1)\n",
    "canvas"
   ]
  },
  {
   "cell_type": "code",
   "execution_count": null,
   "metadata": {},
   "outputs": [],
   "source": [
    "import numpy as np\n",
    "from ipycanvas import Canvas, hold_canvas\n",
    "\n",
    "canvas = Canvas(width=300, height=300)\n",
    "n_circles = 100\n",
    "x = np.random.randint(0, canvas.width, size=(n_circles))\n",
    "y = np.random.randint(0, canvas.width, size=(n_circles))\n",
    "r = np.random.randint(10, 20, size=(n_circles))\n",
    "colors_fill = np.random.randint(0, 255, size=(n_circles, 3))\n",
    "colors_outline = np.random.randint(0, 255, size=(n_circles, 3))\n",
    "alphas = np.random.random(n_circles)\n",
    "with hold_canvas(canvas):\n",
    "    canvas.fill_styled_circles(x, y, r, color=colors_fill, alpha=alphas)\n",
    "    canvas.line_width = 2\n",
    "    canvas.stroke_styled_circles(x, y, r, color=colors_outline)\n",
    "canvas"
   ]
  },
  {
   "cell_type": "code",
   "execution_count": null,
   "metadata": {},
   "outputs": [],
   "source": [
    "import math\n",
    "from math import pi\n",
    "canvas = Canvas(width=300, height=300)\n",
    "\n",
    "# Calculate the arc points from a zero reference point\n",
    "th = pi / 7.5\n",
    "dx = r * math.cos(th)\n",
    "dy = r * math.sin(th)\n",
    "\n",
    "xc = 150\n",
    "yc = 150\n",
    "r = 100\n",
    "\n",
    "canvas.fill_style = 'blue'\n",
    "canvas.fill_circle(xc, yc, r)\n",
    "\n",
    "print(f'dx={dx} dy={dy}')\n",
    "s1 = \"M {xstart} {ystart} A {rad},{rad} {rot} 0 1 {xend},{yend}\".format(xstart=xc-dx, ystart=yc-dy, rad=r, rot=0, xend=xc+dx, yend=yc-dy)\n",
    "s2 = \"M {xstart} {ystart} A {rad},{rad} {rot} 0 0 {xend},{yend}\".format(xstart=xc-dx, ystart=yc+dy, rad=r, rot=0, xend=xc+dx, yend=yc+dy)\n",
    "print(s1)\n",
    "canvas.fill_style = 'purple'\n",
    "canvas.fill(Path2D(s1))\n",
    "canvas.fill(Path2D(s2))\n",
    "\n",
    "canvas.fill_style = 'red'\n",
    "canvas.fill_circle(xc, yc, 5)\n",
    "canvas"
   ]
  }
 ],
 "metadata": {
  "interpreter": {
   "hash": "2be5faf79681da6f2a61fdfdd5405d65d042280f7fba6178067603e3a2925119"
  },
  "kernelspec": {
   "display_name": "Python 3.10.0 64-bit",
   "language": "python",
   "name": "python3"
  },
  "language_info": {
   "codemirror_mode": {
    "name": "ipython",
    "version": 3
   },
   "file_extension": ".py",
   "mimetype": "text/x-python",
   "name": "python",
   "nbconvert_exporter": "python",
   "pygments_lexer": "ipython3",
   "version": "3.10.0"
  },
  "orig_nbformat": 4
 },
 "nbformat": 4,
 "nbformat_minor": 2
}
