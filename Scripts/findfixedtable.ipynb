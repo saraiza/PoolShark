{
 "cells": [
  {
   "cell_type": "markdown",
   "metadata": {},
   "source": [
    "Experiment with OpenCV for finding the pool table edges within an image"
   ]
  },
  {
   "cell_type": "code",
   "execution_count": null,
   "metadata": {},
   "outputs": [],
   "source": [
    "import cv2 as cv\n",
    "import numpy as np\n",
    "import matplotlib.pyplot as plt\n",
    "import math"
   ]
  },
  {
   "cell_type": "code",
   "execution_count": null,
   "metadata": {},
   "outputs": [],
   "source": [
    "def ImgShow(images, resolution=120):\n",
    "    plt.rcParams['figure.dpi'] = resolution\n",
    "    \n",
    "    cnt = len(images)\n",
    "    if cnt > 20:\n",
    "        # Top-level object is an image, make it an array of 1\n",
    "        images = [images]\n",
    "        cnt = len(images)\n",
    "        \n",
    "    cols = cnt\n",
    "    fig, ax = plt.subplots(1, cnt)    \n",
    "    if 1 == cnt:\n",
    "        ax = [ax]\n",
    "    for i in range(0, len(images)):\n",
    "        dims = len(images[i].shape)\n",
    "        if 3 == dims:\n",
    "            imgDisp = cv.cvtColor(images[i], cv.COLOR_BGR2RGB)\n",
    "        else:\n",
    "            imgDisp = cv.cvtColor(images[i], cv.COLOR_GRAY2RGB)\n",
    "            \n",
    "        ax[i].axis('off')\n",
    "        ax[i].imshow(imgDisp)"
   ]
  },
  {
   "cell_type": "code",
   "execution_count": null,
   "metadata": {},
   "outputs": [],
   "source": [
    "# Load the test image\n",
    "imageOriginal = cv.imread(\"../test/images/long_all.jpg\")"
   ]
  },
  {
   "cell_type": "code",
   "execution_count": null,
   "metadata": {},
   "outputs": [],
   "source": [
    "#Find the edges using flood, start with a blur\n",
    "blur = int(25)\n",
    "imageBlur = cv.GaussianBlur(imageOriginal, (blur,blur), cv.BORDER_DEFAULT)\n",
    "\n",
    "# Edge detect using canny\n",
    "imageCanny = cv.Canny(imageOriginal, 100, 175)\n",
    "\n",
    "ImgShow([imageBlur, imageCanny],220)"
   ]
  },
  {
   "cell_type": "code",
   "execution_count": null,
   "metadata": {},
   "outputs": [],
   "source": [
    "# Contours\n",
    "imgGray = cv.cvtColor(imageOriginal, cv.COLOR_BGR2GRAY)\n",
    "ret, thresh = cv.threshold(imgGray, 127, 255, 0)\n",
    "contours, b, = cv.findContours(imageCanny, cv.RETR_EXTERNAL, cv.CHAIN_APPROX_SIMPLE)\n",
    "img = imageOriginal.copy()\n",
    "cv.drawContours(img, contours, -1, (0,255,0),3)\n",
    "ImgShow([imageCanny,img])"
   ]
  },
  {
   "cell_type": "code",
   "execution_count": null,
   "metadata": {},
   "outputs": [],
   "source": []
  }
 ],
 "metadata": {
  "interpreter": {
   "hash": "2be5faf79681da6f2a61fdfdd5405d65d042280f7fba6178067603e3a2925119"
  },
  "kernelspec": {
   "display_name": "Python 3.10.0 64-bit",
   "language": "python",
   "name": "python3"
  },
  "language_info": {
   "codemirror_mode": {
    "name": "ipython",
    "version": 3
   },
   "file_extension": ".py",
   "mimetype": "text/x-python",
   "name": "python",
   "nbconvert_exporter": "python",
   "pygments_lexer": "ipython3",
   "version": "3.10.0"
  },
  "orig_nbformat": 4
 },
 "nbformat": 4,
 "nbformat_minor": 2
}
