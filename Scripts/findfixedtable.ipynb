{
 "cells": [
  {
   "cell_type": "markdown",
   "metadata": {},
   "source": [
    "Experiment with OpenCV for finding the pool table edges within an image.\n",
    "\n",
    "This version assumes a full-sized vertical image of the table. It is looking\n",
    "for the marker pattern along the side of the table."
   ]
  },
  {
   "cell_type": "code",
   "execution_count": null,
   "metadata": {},
   "outputs": [],
   "source": [
    "import cv2 as cv\n",
    "import numpy as np\n",
    "import matplotlib.pyplot as plt\n",
    "import math"
   ]
  },
  {
   "cell_type": "code",
   "execution_count": null,
   "metadata": {},
   "outputs": [],
   "source": [
    "def ImgShow(images, resolution=120):\n",
    "    plt.rcParams['figure.dpi'] = resolution\n",
    "    \n",
    "    cnt = len(images)\n",
    "    if cnt > 20:\n",
    "        # Top-level object is an image, make it an array of 1\n",
    "        images = [images]\n",
    "        cnt = len(images)\n",
    "        \n",
    "    cols = cnt\n",
    "    fig, ax = plt.subplots(1, cnt)    \n",
    "    if 1 == cnt:\n",
    "        ax = [ax]\n",
    "    for i in range(0, len(images)):\n",
    "        dims = len(images[i].shape)\n",
    "        if 3 == dims:\n",
    "            imgDisp = cv.cvtColor(images[i], cv.COLOR_BGR2RGB)\n",
    "        else:\n",
    "            imgDisp = cv.cvtColor(images[i], cv.COLOR_GRAY2RGB)\n",
    "            \n",
    "        ax[i].axis('off')\n",
    "        ax[i].imshow(imgDisp)"
   ]
  },
  {
   "cell_type": "code",
   "execution_count": null,
   "metadata": {},
   "outputs": [],
   "source": [
    "# Load the test image\n",
    "imageOriginal = cv.imread(\"../test/images/long_all.jpg\")"
   ]
  },
  {
   "cell_type": "code",
   "execution_count": null,
   "metadata": {},
   "outputs": [],
   "source": [
    "#Find the edges using flood, start with a blur\n",
    "blur = int(7)\n",
    "imageBlur = cv.GaussianBlur(imageOriginal, (blur,blur), cv.BORDER_DEFAULT)\n",
    "\n",
    "# Edge detect using canny\n",
    "#imageCannyMarksOnly = cv.imread(\"../test/images/CannyMarksOnly.jpg\")\n",
    "#ret, imageCanny = cv.threshold(imageCannyMarksOnly, 127, 255, 0)\n",
    "imageCanny = cv.Canny(imageBlur, 100, 175)\n",
    "\n",
    "ImgShow([imageBlur, imageCanny],220)"
   ]
  },
  {
   "cell_type": "code",
   "execution_count": null,
   "metadata": {},
   "outputs": [],
   "source": [
    "# Contours\n",
    "contours, b, = cv.findContours(imageCanny, cv.RETR_EXTERNAL, cv.CHAIN_APPROX_SIMPLE)\n",
    "imgDrawnContours = imageOriginal.copy()\n",
    "cv.drawContours(imgDrawnContours, contours, -1, (0,255,0),3)\n",
    "ImgShow([imageCanny,imgDrawnContours])"
   ]
  },
  {
   "cell_type": "code",
   "execution_count": null,
   "metadata": {},
   "outputs": [],
   "source": [
    "# Find circles\n",
    "\n",
    "class Circle:\n",
    "    def __init__(self, x,y,r):\n",
    "        self.x = x\n",
    "        self.y = y\n",
    "        self.r = r\n",
    "        \n",
    "    def center(self):\n",
    "        return (self.x, self.y)\n",
    "    \n",
    "    def point(self):\n",
    "        return (int(self.x+0.5), int(self.y+0.5))\n",
    "    \n",
    "    def radius(self):\n",
    "        return self.r\n",
    "    \n",
    "circles = []\n",
    "for points in contours:\n",
    "    (x,y),radius = cv.minEnclosingCircle(points)\n",
    "    circles.append(Circle(x,y,radius))\n",
    "    \n",
    "#sort by radius\n",
    "circles.sort(key=lambda s: s.radius()) # sorts using lambda function\n",
    "\n",
    "# print out the data\n",
    "imgCircles = imageOriginal.copy()\n",
    "clrs = []\n",
    "clrs.append((255,0,0))\n",
    "clrs.append((0,255,0))\n",
    "clrs.append((0,0,255))\n",
    "iClr = 0\n",
    "for circle in circles:\n",
    "    #print(\"{0}\\t{1}\\t{2}\".format(circle.radius(), circle.center()[0], circle.center()[1]))\n",
    "    center_coordinates = (int(circle.center()[0]+0.5), int(circle.center()[1]+0.5))\n",
    "    cv.circle(imgCircles, center_coordinates, int(circle.radius()),clrs[iClr % 3])\t\n",
    "    iClr = iClr+1\n",
    "    \n",
    "    \n",
    "ImgShow([imgCircles], 600)\n",
    "#cv.imwrite(\"../test/images/dotz.jpg\", imgCircles)"
   ]
  },
  {
   "cell_type": "code",
   "execution_count": null,
   "metadata": {},
   "outputs": [],
   "source": [
    "# Find the lines that the dots line up on\n",
    "\n",
    "class LineP:\n",
    "    def __init__(self, x1,y1, x2,y2):\n",
    "        self.x1 = x1\n",
    "        self.y1 = y1\n",
    "        self.x2 = x2\n",
    "        self.y2 = y2\n",
    "        rise = y2 - y1\n",
    "        run = x2 - x1\n",
    "        if run != 0.0:\n",
    "            self.m = rise/run\n",
    "        else:\n",
    "            self.m = 10E10\n",
    "        self.b = y1 - self.m * x1\n",
    "        self.pointCount = 2\n",
    "        \n",
    "    def angleRad(self):\n",
    "        return np.arctan(self.m)\n",
    "    \n",
    "    def angleDeg(self):\n",
    "        return self.angleRad() * 180.0 / math.pi\n",
    "    \n",
    "    def length(self):\n",
    "        rise = self.y2 - self.y1\n",
    "        run = self.x2 - self.x1\n",
    "        return math.sqrt(rise * rise + run * run)\n",
    "    \n",
    "    def pointCount(self):\n",
    "        return self.pointCount\n",
    "    def AddPoint(self):\n",
    "        self.pointCount += 1\n",
    "        \n",
    "        \n",
    "#Between every two points, there is a line. Find all of the possible lines.\n",
    "lines = []\n",
    "imgLines = imageOriginal.copy()\n",
    "clr = (255,0,0)\n",
    "angleLimitV = 20.0 # Only accept lines +/- this angle\n",
    "angleLimitH = 5.0\n",
    "for i in range(0, len(circles)-1):\n",
    "    for j in range(i+1, len(circles)):\n",
    "        circle_a = circles[i]\n",
    "        circle_b = circles[j]\n",
    "        line = LineP(circle_a.center()[0],circle_a.center()[1], circle_b.center()[0],circle_b.center()[1])\n",
    "        angle = line.angleDeg()\n",
    "        if(angle > -angleLimitH and angle < angleLimitH or angle > 90-angleLimitV and angle < 90+angleLimitV or angle > -90-angleLimitV and angle < -90+angleLimitV):\n",
    "            lines.append(line)\n",
    "            #print(line.angleDeg())\n",
    "            cv.line(imgLines, circle_a.point(), circle_b.point(), clr)\n",
    "        \n",
    "ImgShow([imgLines],400)\n"
   ]
  }
 ],
 "metadata": {
  "interpreter": {
   "hash": "2be5faf79681da6f2a61fdfdd5405d65d042280f7fba6178067603e3a2925119"
  },
  "kernelspec": {
   "display_name": "Python 3.10.0 64-bit",
   "language": "python",
   "name": "python3"
  },
  "language_info": {
   "codemirror_mode": {
    "name": "ipython",
    "version": 3
   },
   "file_extension": ".py",
   "mimetype": "text/x-python",
   "name": "python",
   "nbconvert_exporter": "python",
   "pygments_lexer": "ipython3",
   "version": "3.10.0"
  },
  "orig_nbformat": 4
 },
 "nbformat": 4,
 "nbformat_minor": 2
}
