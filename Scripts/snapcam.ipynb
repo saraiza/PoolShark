{
 "cells": [
  {
   "cell_type": "markdown",
   "metadata": {},
   "source": [
    "Grab test data from the camera"
   ]
  },
  {
   "cell_type": "code",
   "execution_count": null,
   "metadata": {},
   "outputs": [],
   "source": [
    "import cv2 as cv\n",
    "import numpy as np\n",
    "import numpy.linalg as linalg\n",
    "import matplotlib.pyplot as plt\n",
    "import math\n",
    "import copy\n",
    "from Utils import *\n",
    "from amcrest import AmcrestCamera\n",
    "import os\n",
    "\n",
    "imageNum = 0\n",
    "imageSession = 3\n",
    "\n",
    "dir = \"../test/images/AmcrestCamera/Session{0}\".format(imageSession)\n",
    "if not os.path.exists(dir):\n",
    "    os.makedirs(dir)"
   ]
  },
  {
   "cell_type": "code",
   "execution_count": null,
   "metadata": {},
   "outputs": [],
   "source": [
    "# Grab an image from the camera\n",
    "\n",
    "# Build a filename\n",
    "imageNum += 1\n",
    "filename =\"{0}/table{1}.jpg\".format(dir, imageNum)\n",
    "print(filename)\n",
    "\n",
    "camera = AmcrestCamera('192.168.0.209', 80, 'honeybadger', 'DoucheBag').camera\n",
    "#print(camera.software_information)\n",
    "camera.snapshot(path_file=filename) # toss one\n",
    "os.remove(filename)\n",
    "camera.snapshot(path_file=filename)\n",
    "    \n",
    "# Load the test image\n",
    "imageCam = cv.imread(filename)\n",
    "ImgShow(imageCam)\n"
   ]
  }
 ],
 "metadata": {
  "interpreter": {
   "hash": "2be5faf79681da6f2a61fdfdd5405d65d042280f7fba6178067603e3a2925119"
  },
  "kernelspec": {
   "display_name": "Python 3.10.0 64-bit",
   "language": "python",
   "name": "python3"
  },
  "language_info": {
   "codemirror_mode": {
    "name": "ipython",
    "version": 3
   },
   "file_extension": ".py",
   "mimetype": "text/x-python",
   "name": "python",
   "nbconvert_exporter": "python",
   "pygments_lexer": "ipython3",
   "version": "3.10.0"
  },
  "orig_nbformat": 4
 },
 "nbformat": 4,
 "nbformat_minor": 2
}
