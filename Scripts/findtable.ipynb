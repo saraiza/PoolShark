{
 "cells": [
  {
   "cell_type": "markdown",
   "metadata": {},
   "source": [
    "Experiment with OpenCV for finding the pool table edges within an image"
   ]
  },
  {
   "cell_type": "code",
   "execution_count": null,
   "metadata": {},
   "outputs": [],
   "source": [
    "import cv2 as cv\n",
    "import numpy as np\n",
    "import matplotlib.pyplot as plt"
   ]
  },
  {
   "cell_type": "code",
   "execution_count": null,
   "metadata": {},
   "outputs": [],
   "source": [
    "def ImgShow(images, resolution=120):\n",
    "    plt.rcParams['figure.dpi'] = resolution\n",
    "    \n",
    "    cnt = len(images)\n",
    "    if cnt > 20:\n",
    "        # Top-level object is an image, make it an array of 1\n",
    "        images = [images]\n",
    "        cnt = len(images)\n",
    "        \n",
    "    cols = cnt\n",
    "    fig, ax = plt.subplots(1, cnt)    \n",
    "    if 1 == cnt:\n",
    "        ax = [ax]\n",
    "    for i in range(0, len(images)):\n",
    "        dims = len(images[i].shape)\n",
    "        if 3 == dims:\n",
    "            imgDisp = cv.cvtColor(images[i], cv.COLOR_BGR2RGB)\n",
    "        else:\n",
    "            imgDisp = cv.cvtColor(images[i], cv.COLOR_GRAY2RGB)\n",
    "            \n",
    "        ax[i].axis('off')\n",
    "        ax[i].imshow(imgDisp)"
   ]
  },
  {
   "cell_type": "code",
   "execution_count": null,
   "metadata": {},
   "outputs": [],
   "source": [
    "# Load the test image\n",
    "imageOriginal = cv.imread(\"../test/images/IMG_4430.jpg\")"
   ]
  },
  {
   "cell_type": "code",
   "execution_count": null,
   "metadata": {},
   "outputs": [],
   "source": [
    "#Find the edges using flood, start with a blur\n",
    "imageBlur = cv.GaussianBlur(imageOriginal, (25,25), cv.BORDER_DEFAULT)\n",
    "\n",
    "imageFlood = imageBlur.copy()\n",
    "cols = imageFlood.shape[1]\n",
    "rows = imageFlood.shape[0]\n",
    "seed = (int(cols / 2), int(rows / 2)) # a point in the middle\n",
    "\n",
    "imageFloodMask = np.zeros((rows+2,cols+2,1), np.uint8)\n",
    "tolerance = 32.0\n",
    "diff = (tolerance,tolerance,tolerance)\n",
    "#flags = 8 | cv.FLOODFILL_MASK_ONLY | 1 << 8\n",
    "flags = 8 | cv.FLOODFILL_FIXED_RANGE | 255 << 8\n",
    "res = cv.floodFill(imageFlood, imageFloodMask, seed, (0,0,255),diff,diff, flags)\n",
    "\n",
    "ImgShow([imageOriginal, imageBlur, imageFlood, imageFloodMask],200)"
   ]
  },
  {
   "cell_type": "markdown",
   "metadata": {},
   "source": [
    "Find the line segments"
   ]
  },
  {
   "cell_type": "code",
   "execution_count": null,
   "metadata": {},
   "outputs": [],
   "source": [
    "imageCanny = cv.Canny(imageFloodMask, 100, 175)\n",
    "\n",
    "#Create default parametrization LSD\n",
    "lsd = cv.createLineSegmentDetector(0)\n",
    "\n",
    "\n",
    "#Detect lines in the image\n",
    "lines = lsd.detect(imageCanny)[0] #Position 0 of the returned tuple are the detected lines\n",
    "    \n",
    "imageWithLines = lsd.drawSegments(imageCanny, lines)\n",
    "ImgShow([imageWithLines])"
   ]
  },
  {
   "cell_type": "code",
   "execution_count": null,
   "metadata": {},
   "outputs": [],
   "source": [
    "# Detect lines using the LineSegementDetector\n",
    "img = imageCanny\n",
    "lsd = cv.createLineSegmentDetector()\n",
    "\n",
    "if len(img.shape) == 3:\n",
    "    img = cv.cvtColor(img, cv.COLOR_RGB2GRAY)\n",
    "\n",
    "lines, width, prec, nfa = lsd.detect(img)\n",
    "edgeMap = lsd.drawSegments(img, lines)[..., -1]\n",
    "edgeMap2 = lsd.drawSegments(img, lines)\n",
    "#lines = np.squeeze(lines, 1)\n",
    "#edgeList = np.concatenate([lines, width, prec, nfa], 1)\n",
    "ImgShow([edgeMap,edgeMap2])"
   ]
  },
  {
   "cell_type": "code",
   "execution_count": null,
   "metadata": {},
   "outputs": [],
   "source": [
    "# HoughLinesP for detection\n",
    "img = imageCanny\n",
    "\n",
    "\n",
    "rho = 1  # distance resolution in pixels of the Hough grid\n",
    "theta = np.pi / 180  # angular resolution in radians of the Hough grid\n",
    "threshold = 15  # minimum number of votes (intersections in Hough grid cell)\n",
    "min_line_length = 50  # minimum number of pixels making up a line\n",
    "max_line_gap = 20  # maximum gap in pixels between connectable line segments\n",
    "line_image = np.copy(img) * 0  # creating a blank to draw lines on\n",
    "\n",
    "# Run Hough on edge detected image\n",
    "# Output \"lines\" is an array containing endpoints of detected line segments\n",
    "lines = cv.HoughLinesP(img, rho, theta, threshold, np.array([]),\n",
    "                    min_line_length, max_line_gap)\n",
    "\n",
    "for line in lines:\n",
    "    for x1,y1,x2,y2 in line:\n",
    "        cv.line(line_image,(x1,y1),(x2,y2),(255,0,0),5)\n",
    "\n",
    "# Draw the lines on the  image\n",
    "lines_edges = cv.addWeighted(img, 0.8, line_image, 1, 0)\n",
    "ImgShow([img,lines_edges])"
   ]
  }
 ],
 "metadata": {
  "interpreter": {
   "hash": "2be5faf79681da6f2a61fdfdd5405d65d042280f7fba6178067603e3a2925119"
  },
  "kernelspec": {
   "display_name": "Python 3.10.0 64-bit",
   "language": "python",
   "name": "python3"
  },
  "language_info": {
   "codemirror_mode": {
    "name": "ipython",
    "version": 3
   },
   "file_extension": ".py",
   "mimetype": "text/x-python",
   "name": "python",
   "nbconvert_exporter": "python",
   "pygments_lexer": "ipython3",
   "version": "3.10.0"
  },
  "orig_nbformat": 4
 },
 "nbformat": 4,
 "nbformat_minor": 2
}
