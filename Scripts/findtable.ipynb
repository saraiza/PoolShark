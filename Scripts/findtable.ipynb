{
 "cells": [
  {
   "cell_type": "markdown",
   "metadata": {},
   "source": [
    "Experiment with OpenCV for finding the pool table edges within an image"
   ]
  },
  {
   "cell_type": "code",
   "execution_count": null,
   "metadata": {},
   "outputs": [],
   "source": [
    "import cv2 as cv\n",
    "import numpy as np\n",
    "import matplotlib.pyplot as plt"
   ]
  },
  {
   "cell_type": "code",
   "execution_count": null,
   "metadata": {},
   "outputs": [],
   "source": [
    "def ImgShow(images, resolution=120):\n",
    "    plt.rcParams['figure.dpi'] = resolution\n",
    "    \n",
    "    cnt = len(images)\n",
    "    if cnt > 20:\n",
    "        # Top-level object is an image, make it an array of 1\n",
    "        images = [images]\n",
    "        cnt = len(images)\n",
    "        \n",
    "    cols = cnt\n",
    "    fig, ax = plt.subplots(1, cnt)    \n",
    "    if 1 == cnt:\n",
    "        ax = [ax]\n",
    "    for i in range(0, len(images)):\n",
    "        dims = len(images[i].shape)\n",
    "        if 3 == dims:\n",
    "            imgDisp = cv.cvtColor(images[i], cv.COLOR_BGR2RGB)\n",
    "        else:\n",
    "            imgDisp = cv.cvtColor(images[i], cv.COLOR_GRAY2RGB)\n",
    "            \n",
    "        ax[i].axis('off')\n",
    "        ax[i].imshow(imgDisp)"
   ]
  },
  {
   "cell_type": "code",
   "execution_count": null,
   "metadata": {},
   "outputs": [],
   "source": [
    "# Load the test image\n",
    "imageOriginal = cv.imread(\"../test/images/IMG_4430.jpg\")"
   ]
  },
  {
   "cell_type": "code",
   "execution_count": null,
   "metadata": {},
   "outputs": [],
   "source": [
    "#Find the edges using flood, start with a blur\n",
    "blur = int(25)\n",
    "imageBlur = cv.GaussianBlur(imageOriginal, (blur,blur), cv.BORDER_DEFAULT)\n",
    "\n",
    "imageFlood = imageBlur.copy()\n",
    "cols = imageFlood.shape[1]\n",
    "rows = imageFlood.shape[0]\n",
    "seed = (int(cols / 2), int(rows / 2)) # a point in the middle\n",
    "\n",
    "imageFloodMask = np.zeros((rows+2,cols+2,1), np.uint8)\n",
    "tolerance = 32.0\n",
    "diff = (tolerance,tolerance,tolerance)\n",
    "#flags = 8 | cv.FLOODFILL_MASK_ONLY | 1 << 8\n",
    "flags = 8 | cv.FLOODFILL_FIXED_RANGE | 255 << 8\n",
    "res = cv.floodFill(imageFlood, imageFloodMask, seed, (0,0,255),diff,diff, flags)\n",
    "\n",
    "# Edge detect using canny\n",
    "imageCanny = cv.Canny(imageFloodMask, 100, 175)\n",
    "\n",
    "ImgShow([imageBlur, imageFloodMask, imageCanny],220)"
   ]
  },
  {
   "cell_type": "markdown",
   "metadata": {},
   "source": [
    "Find the line segments"
   ]
  },
  {
   "cell_type": "code",
   "execution_count": null,
   "metadata": {},
   "outputs": [],
   "source": [
    "#Create default parametrization LSD\n",
    "lsd = cv.createLineSegmentDetector(0)\n",
    "\n",
    "#Detect lines in the image\n",
    "lines = lsd.detect(imageCanny)[0] #Position 0 of the returned tuple are the detected lines\n",
    "    \n",
    "imageLstWithLines = lsd.drawSegments(imageCanny, lines)[..., -1]\n",
    "ImgShow([imageFlood,imageLstWithLines])"
   ]
  },
  {
   "cell_type": "code",
   "execution_count": null,
   "metadata": {},
   "outputs": [],
   "source": [
    "# HoughLinesP for detection\n",
    "img = imageCanny\n",
    "\n",
    "rho = 1  # distance resolution in pixels of the Hough grid\n",
    "theta = np.pi / 180  # angular resolution in radians of the Hough grid\n",
    "threshold = 35  # minimum number of votes (intersections in Hough grid cell)\n",
    "min_line_length = 150  # minimum number of pixels making up a line\n",
    "max_line_gap = 60  # maximum gap in pixels between connectable line segments\n",
    "\n",
    "# Run Hough on edge detected image\n",
    "# Output \"lines\" is an array containing endpoints of detected line segments\n",
    "tableEdgeLines = cv.HoughLinesP(img, rho, theta, threshold, np.array([]),\n",
    "                    min_line_length, max_line_gap)\n",
    "print(\"tableEdgeLines count = \" + str(len(tableEdgeLines)))\n",
    "\n",
    "# For visualization, draw the lines onto a copy of the image\n",
    "imageDrawnLines = np.copy(img) * 0  # creating a blank to draw lines on\n",
    "for line in tableEdgeLines:\n",
    "    for x1,y1,x2,y2 in line:\n",
    "        cv.line(imageDrawnLines,(x1,y1),(x2,y2),(255,0,0),5)\n",
    "\n",
    "# Draw the lines on the  image\n",
    "imageDrawnEdges = cv.addWeighted(img, 0.8, imageDrawnLines, 1, 0)\n",
    "ImgShow([img, imageDrawnEdges],300)\n",
    "#print(tableEdgeLines)\n",
    "\n",
    "# Find the outside lines\n",
    "image_dx = imageFlood.shape[1]\n",
    "image_dy = imageFlood.shape[0]\n",
    "\n",
    "# Each item is an array of: maxval, line\n",
    "lineT = [image_dy-1, [0,0,0,0]] # Start with a line on the bottom\n",
    "lineB = [0, [0,0,0,0]]  # Start with a line on the top\n",
    "lineL = [image_dx-1, [0,0,0,0]] # Start with a line on the right\n",
    "lineR = [0, [0,0,0,0]]                 # Start with a line on the left\n",
    "\n",
    "for line in tableEdgeLines:\n",
    "    for x1,y1,x2,y2 in line:\n",
    "        cv.line(imageDrawnLines,(x1,y1),(x2,y2),(255,0,0),5)"
   ]
  },
  {
   "cell_type": "code",
   "execution_count": 66,
   "metadata": {},
   "outputs": [],
   "source": [
    "# objects\n",
    "tp = [1, \"bob\"]\n",
    "tp[1] = \"jerry\"\n",
    "tp[1] = \"x\""
   ]
  },
  {
   "cell_type": "code",
   "execution_count": null,
   "metadata": {},
   "outputs": [],
   "source": [
    "# Countours\n",
    "img = imageOriginal.copy()\n",
    "imgGray = imageFloodMask.copy()\n",
    "#imgray = cv.cvtColor(imageFloodMask, cv.COLOR_BGR2GRAY)\n",
    "ret, thresh = cv.threshold(imgGray, 127, 255, 0)\n",
    "contours, b, = cv.findContours(thresh, cv.RETR_TREE, cv.CHAIN_APPROX_SIMPLE)\n",
    "cv.drawContours(img, contours, -1, (0,255,0),3)\n",
    "ImgShow([imageOriginal,thresh,img])"
   ]
  },
  {
   "cell_type": "code",
   "execution_count": null,
   "metadata": {},
   "outputs": [],
   "source": [
    "# Alternate method using Harris Corner Detection\n",
    "img = imageFloodMask.copy()\n",
    "\n",
    "blockSize = 2\n",
    "ksize = 3\n",
    "k = 0.04\n",
    "corners = cv.cornerHarris(img, blockSize, ksize, k)\n",
    "\n",
    "#result is dilated for marking the corners, not important\n",
    "corners = cv.dilate(corners, None)\n",
    "\n",
    "# Threshold for an optimal value, it may vary depending on the image.\n",
    "imgDrawnCorners = imageOriginal.copy()\n",
    "#imgDrawnCorners[corners>0.01*corners.max()]=[0,0,255]\n",
    "ImgShow([imgDrawnCorners, corners])"
   ]
  },
  {
   "cell_type": "code",
   "execution_count": null,
   "metadata": {},
   "outputs": [],
   "source": [
    "img = imageOriginal.copy()\n",
    "gray = cv.cvtColor(img,cv.COLOR_BGR2GRAY)\n",
    "gray = np.float32(gray)\n",
    "\n",
    "blockSize = 20\n",
    "ksize = 21\n",
    "k = 0.04\n",
    "imgCorners = cv.cornerHarris(gray,blockSize,ksize,k)\n",
    "#result is dilated for marking the corners, not important\n",
    "#dst = cv.dilate(dst,None)\n",
    "# Threshold for an optimal value, it may vary depending on the image.\n",
    "img[imgCorners>0.01*imgCorners.max()]=[0,0,255] # << Brendan, how is this working? There is some implied loop\n",
    "ImgShow([img, imgCorners],200)"
   ]
  },
  {
   "cell_type": "code",
   "execution_count": null,
   "metadata": {},
   "outputs": [],
   "source": [
    "# Shi-Tomasi corner detection\n",
    "img = imageOriginal.copy()\n",
    "gray = cv.cvtColor(img,cv.COLOR_BGR2GRAY)\n",
    "\n",
    "maxCorners = 20\n",
    "qualityLevel = 0.01\n",
    "minDistance = 30\n",
    "blockSize = 20\n",
    "corners = cv.goodFeaturesToTrack(gray, maxCorners, qualityLevel, minDistance, cv.noArray, blockSize)\n",
    "corners = np.int0(corners)\n",
    "for i in corners:\n",
    "    x,y = i.ravel()\n",
    "    cv.circle(img,(x,y),7,(0,0,255),-1)\n",
    "    \n",
    "ImgShow(img, 250)"
   ]
  }
 ],
 "metadata": {
  "interpreter": {
   "hash": "2be5faf79681da6f2a61fdfdd5405d65d042280f7fba6178067603e3a2925119"
  },
  "kernelspec": {
   "display_name": "Python 3.10.0 64-bit",
   "language": "python",
   "name": "python3"
  },
  "language_info": {
   "codemirror_mode": {
    "name": "ipython",
    "version": 3
   },
   "file_extension": ".py",
   "mimetype": "text/x-python",
   "name": "python",
   "nbconvert_exporter": "python",
   "pygments_lexer": "ipython3",
   "version": "3.10.0"
  },
  "orig_nbformat": 4
 },
 "nbformat": 4,
 "nbformat_minor": 2
}
