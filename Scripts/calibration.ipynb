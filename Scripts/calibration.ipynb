{
 "cells": [
  {
   "cell_type": "markdown",
   "metadata": {},
   "source": [
    "Experiment with OpenCV for finding the pool table edges within an image.\n",
    "\n",
    "This version assumes a full-sized vertical image of the table. It is looking\n",
    "for the marker pattern along the side of the table."
   ]
  },
  {
   "cell_type": "code",
   "execution_count": null,
   "metadata": {},
   "outputs": [],
   "source": [
    "import cv2 as cv\n",
    "import numpy as np\n",
    "import numpy.linalg as linalg\n",
    "import matplotlib.pyplot as plt\n",
    "import math\n",
    "import copy\n",
    "import os\n",
    "import importlib.util\n",
    "from Utils import *"
   ]
  },
  {
   "cell_type": "code",
   "execution_count": null,
   "metadata": {},
   "outputs": [],
   "source": [
    "files, dir = FindImageFilesAndDir(subdir=\"AmcrestCamera/Session4\")\n",
    "print(files,dir)\n",
    "filename = files[0]\n",
    "print(\"filename=\" + filename)\n",
    "\n",
    "imgA = cv.imread(filename)\n",
    "\n",
    "GenerateCalibration(\"AmcrestCamera/Checkerboards\")\n",
    "imgClipped, imgUnclipped = CalibrateImage(imgA)\n",
    "\n",
    "#GenerateCalibration(\"AmcrestCamera/Session4/checkerboards\", True)\n",
    "#print(f'input shape={imgA.shape}')\n",
    "ImgShow([imgA, imgUnclipped, imgClipped], 300)"
   ]
  }
 ],
 "metadata": {
  "interpreter": {
   "hash": "2be5faf79681da6f2a61fdfdd5405d65d042280f7fba6178067603e3a2925119"
  },
  "kernelspec": {
   "display_name": "Python 3.10.0 64-bit",
   "language": "python",
   "name": "python3"
  },
  "language_info": {
   "codemirror_mode": {
    "name": "ipython",
    "version": 3
   },
   "file_extension": ".py",
   "mimetype": "text/x-python",
   "name": "python",
   "nbconvert_exporter": "python",
   "pygments_lexer": "ipython3",
   "version": "3.10.0"
  },
  "orig_nbformat": 4
 },
 "nbformat": 4,
 "nbformat_minor": 2
}
