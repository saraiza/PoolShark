{
 "cells": [
  {
   "cell_type": "markdown",
   "metadata": {},
   "source": [
    "Experiment with OpenCV for finding the pool table edges within an image.\n",
    "\n",
    "This version assumes a full-sized vertical image of the table. It is looking\n",
    "for the marker pattern along the side of the table."
   ]
  },
  {
   "cell_type": "code",
   "execution_count": null,
   "metadata": {},
   "outputs": [],
   "source": [
    "import cv2 as cv\n",
    "import numpy as np\n",
    "import numpy.linalg as linalg\n",
    "import matplotlib.pyplot as plt\n",
    "import math\n",
    "import copy\n",
    "import os\n",
    "import importlib.util\n",
    "from Utils import *"
   ]
  },
  {
   "cell_type": "code",
   "execution_count": null,
   "metadata": {},
   "outputs": [],
   "source": [
    "files, dir = FindImageFilesAndDir(subdir=\"AmcrestCamera/Session2/checkerboards\")\n",
    "\n",
    "# Prototype moving to external functions\n",
    "def GenerateCalibrationX(dirCheckerboard, rotate=True):\n",
    "    global calRotate\n",
    "    calRotate = rotate\n",
    "    files, dir = FindImageFilesAndDir(subdir=dirCheckerboard)\n",
    "    print(\"Generating Calibration\")\n",
    "    print(\" rotate={0}\".format(rotate))\n",
    "    print(\" dir={0}\".format(dirCheckerboard))\n",
    "    print(\" Checkerboard file count={0}\".format(len(files)))\n",
    "    patternSize = (9,6)\n",
    "    patW = patternSize[1]\n",
    "    patH = patternSize[0]\n",
    "\n",
    "    # Create checkerboard points in 3D space\n",
    "    objp = np.zeros((patW*patH,3), np.float32)\n",
    "    objp[:,:2] = np.mgrid[0:patH,0:patW].T.reshape(-1,2)\n",
    "\n",
    "    # Sub-Pixel setup\n",
    "    winSize = (5, 5)\n",
    "    zeroZone = (-1, -1)\n",
    "    criteria = (cv.TERM_CRITERIA_EPS + cv.TermCriteria_COUNT, 30, 0.001)\n",
    "\n",
    "    # Go find the pattern in each image\n",
    "    objpoints = [] # 3d point in real world space\n",
    "    imgpoints = [] # 2d points in image plane.\n",
    "    for file in files:\n",
    "        image = cv.imread(file)\n",
    "        #print(\"cal file: {0} shape={1}\".format(file, image.shape))\n",
    "        if(calRotate):\n",
    "            image = cv.rotate(image,cv.ROTATE_90_CLOCKWISE)\n",
    "        imageGray = cv.cvtColor(image, cv.COLOR_BGR2GRAY)\n",
    "        bFound, cornerPoints = cv.findChessboardCorners(imageGray, patternSize)\n",
    "        if not bFound:\n",
    "            continue\n",
    "        objpoints.append(objp) # All the same\n",
    "        cornerPointsSubPix = cv.cornerSubPix(imageGray, cornerPoints, winSize, zeroZone, criteria)\n",
    "        imgpoints.append(cornerPoints)\n",
    "        cv.drawChessboardCorners(image, patternSize, cornerPointsSubPix, bFound)\n",
    "        \n",
    "    global calMatrix  \n",
    "    global calDist\n",
    "    ret, calMatrix, calDist, rvecs, tvecs = cv.calibrateCamera(objpoints, imgpoints, imageGray.shape[::-1], None, None)\n",
    "        \n",
    "    h, w = image.shape[:2]        \n",
    "    global calMatrixOptimal\n",
    "    global calROI\n",
    "    calMatrixOptimal, calROI = cv.getOptimalNewCameraMatrix(calMatrix, calDist, (w,h), 1, (w,h))    \n",
    "\n",
    "def CalibrateImageX(img):    \n",
    "    # undistort and crop the image\n",
    "    global calMatrix  \n",
    "    global calDist\n",
    "    global calMatrixOptimal\n",
    "    #global calRotate\n",
    "    if(calRotate):\n",
    "        img = cv.rotate(img,cv.ROTATE_90_CLOCKWISE)\n",
    "    imgUndistort = cv.undistort(img, calMatrix, calDist, None, calMatrixOptimal)\n",
    "    x, y, w, h = calROI\n",
    "    #imgUndistort = imgUndistort[y:y+h, x:x+w]\n",
    "    return imgUndistort\n",
    "\n",
    "GenerateCalibration(\"AmcrestCamera/Session2/checkerboards\", False)\n",
    "imgA = cv.imread(files[0])\n",
    "imgB = CalibrateImage(imgA)\n",
    "ImgShow([imgA, imgB], 200)\n",
    "\n",
    "GenerateCalibration(\"AmcrestCamera/Session2/checkerboards\", True)\n",
    "imgA = cv.imread(files[0])\n",
    "imgB = CalibrateImage(imgA)\n",
    "ImgShow([cv.rotate(imgA, cv.ROTATE_90_CLOCKWISE), imgB], 200)\n",
    "\n",
    "\n"
   ]
  }
 ],
 "metadata": {
  "interpreter": {
   "hash": "2be5faf79681da6f2a61fdfdd5405d65d042280f7fba6178067603e3a2925119"
  },
  "kernelspec": {
   "display_name": "Python 3.10.0 64-bit",
   "language": "python",
   "name": "python3"
  },
  "language_info": {
   "codemirror_mode": {
    "name": "ipython",
    "version": 3
   },
   "file_extension": ".py",
   "mimetype": "text/x-python",
   "name": "python",
   "nbconvert_exporter": "python",
   "pygments_lexer": "ipython3",
   "version": "3.10.0"
  },
  "orig_nbformat": 4
 },
 "nbformat": 4,
 "nbformat_minor": 2
}
